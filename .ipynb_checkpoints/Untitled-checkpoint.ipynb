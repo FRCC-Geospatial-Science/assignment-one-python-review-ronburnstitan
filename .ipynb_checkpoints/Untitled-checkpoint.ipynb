{
 "cells": [
  {
   "cell_type": "code",
   "execution_count": 1,
   "id": "0fc11fc9-0433-4a84-8f62-ef26a657be4b",
   "metadata": {},
   "outputs": [
    {
     "data": {
      "text/plain": [
       "4"
      ]
     },
     "execution_count": 1,
     "metadata": {},
     "output_type": "execute_result"
    }
   ],
   "source": [
    "2 + 2"
   ]
  },
  {
   "cell_type": "code",
   "execution_count": 2,
   "id": "53edbaae-6862-4044-92eb-7e5289ff887a",
   "metadata": {},
   "outputs": [
    {
     "data": {
      "text/plain": [
       "2"
      ]
     },
     "execution_count": 2,
     "metadata": {},
     "output_type": "execute_result"
    }
   ],
   "source": [
    "5 - 3"
   ]
  },
  {
   "cell_type": "code",
   "execution_count": 3,
   "id": "4d27754f-dfa6-4d78-a96a-d01bd2fbc659",
   "metadata": {},
   "outputs": [
    {
     "data": {
      "text/plain": [
       "21"
      ]
     },
     "execution_count": 3,
     "metadata": {},
     "output_type": "execute_result"
    }
   ],
   "source": [
    "3*7"
   ]
  },
  {
   "cell_type": "code",
   "execution_count": 8,
   "id": "7a38da85-a4a0-4551-a622-dcdf6b9e6f69",
   "metadata": {},
   "outputs": [
    {
     "name": "stdout",
     "output_type": "stream",
     "text": [
      "hello world\n"
     ]
    }
   ],
   "source": [
    "print(\"hello world\")"
   ]
  },
  {
   "cell_type": "code",
   "execution_count": 11,
   "id": "2a9b8ee4-a268-4ca7-999d-e4f2195425fb",
   "metadata": {},
   "outputs": [
    {
     "name": "stdout",
     "output_type": "stream",
     "text": [
      "hello world\n"
     ]
    },
    {
     "name": "stdin",
     "output_type": "stream",
     "text": [
      "age 18\n"
     ]
    },
    {
     "data": {
      "text/plain": [
       "'18'"
      ]
     },
     "execution_count": 11,
     "metadata": {},
     "output_type": "execute_result"
    }
   ],
   "source": [
    "#comment\n",
    "\n",
    "print(\"hello world\")\n",
    "\n",
    "input(\"age\")"
   ]
  },
  {
   "cell_type": "code",
   "execution_count": 12,
   "id": "1ee7683c-f595-42b5-823a-53773c26d7d8",
   "metadata": {},
   "outputs": [
    {
     "name": "stdin",
     "output_type": "stream",
     "text": [
      "age 18\n"
     ]
    }
   ],
   "source": [
    "age=int(input(\"age\"))"
   ]
  },
  {
   "cell_type": "code",
   "execution_count": 13,
   "id": "7d6de3cd-a8c6-4ec8-8460-71d5ea7999cc",
   "metadata": {},
   "outputs": [
    {
     "data": {
      "text/plain": [
       "18"
      ]
     },
     "execution_count": 13,
     "metadata": {},
     "output_type": "execute_result"
    }
   ],
   "source": [
    "age"
   ]
  },
  {
   "cell_type": "code",
   "execution_count": 20,
   "id": "b8ac630a-2c3d-48ed-a8bd-ef8e1f1bb8c9",
   "metadata": {},
   "outputs": [
    {
     "name": "stdin",
     "output_type": "stream",
     "text": [
      "8888 8\n"
     ]
    },
    {
     "data": {
      "text/plain": [
       "'8'"
      ]
     },
     "execution_count": 20,
     "metadata": {},
     "output_type": "execute_result"
    }
   ],
   "source": [
    "input(int(8888))"
   ]
  },
  {
   "cell_type": "code",
   "execution_count": 21,
   "id": "8fb4bfbb-b096-4266-9abb-c81e9ee8284a",
   "metadata": {},
   "outputs": [
    {
     "data": {
      "text/plain": [
       "8888"
      ]
     },
     "execution_count": 21,
     "metadata": {},
     "output_type": "execute_result"
    }
   ],
   "source": [
    "8888"
   ]
  },
  {
   "cell_type": "code",
   "execution_count": 22,
   "id": "56c7aa07-c5bf-449a-8473-523d96f37862",
   "metadata": {},
   "outputs": [
    {
     "name": "stdin",
     "output_type": "stream",
     "text": [
      "Your name: Ron\n"
     ]
    }
   ],
   "source": [
    "name=(input(\"Your name:\"))"
   ]
  },
  {
   "cell_type": "code",
   "execution_count": 23,
   "id": "1e6adcb1-f77e-4822-a314-5aa92396295e",
   "metadata": {},
   "outputs": [
    {
     "data": {
      "text/plain": [
       "'Ron'"
      ]
     },
     "execution_count": 23,
     "metadata": {},
     "output_type": "execute_result"
    }
   ],
   "source": [
    "name"
   ]
  },
  {
   "cell_type": "code",
   "execution_count": null,
   "id": "1ea2e808-2e94-42b8-aeac-f913ed292a66",
   "metadata": {},
   "outputs": [],
   "source": []
  }
 ],
 "metadata": {
  "kernelspec": {
   "display_name": "Python 3 (ipykernel)",
   "language": "python",
   "name": "python3"
  },
  "language_info": {
   "codemirror_mode": {
    "name": "ipython",
    "version": 3
   },
   "file_extension": ".py",
   "mimetype": "text/x-python",
   "name": "python",
   "nbconvert_exporter": "python",
   "pygments_lexer": "ipython3",
   "version": "3.10.13"
  }
 },
 "nbformat": 4,
 "nbformat_minor": 5
}
