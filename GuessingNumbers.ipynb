{
 "cells": [
  {
   "cell_type": "markdown",
   "metadata": {
    "colab_type": "text",
    "id": "view-in-github"
   },
   "source": [
    "<a href=\"https://colab.research.google.com/github/FRCC-Geospatial-Science/GIS-3011-Assignment-One-Python-Review/blob/main/GuessingNumbers.ipynb\" target=\"_parent\"><img src=\"https://colab.research.google.com/assets/colab-badge.svg\" alt=\"Open In Colab\"/></a>"
   ]
  },
  {
   "cell_type": "markdown",
   "metadata": {
    "id": "ilSmgOMDp4Ma"
   },
   "source": [
    "\n",
    "**Writing a Random Number Guessing Game**\n",
    "As a class, we will need to use the created flow chart to write a program which guesses a number between 1 and 20.\n",
    "\n",
    "\n",
    "\n",
    "1.   Have the user input a number between 1 and 20\n",
    "2.   Give the user 6 chances to guess the number\n",
    "3.   You'll need the following:\n",
    "\n",
    "*   Variables\n",
    "*   Ranges\n",
    "*   Comparison Operators\n",
    "*   Flow Control\n",
    "*   Value Types\n",
    "*   Value Type Conversions\n",
    "*   Print statements\n",
    "\n",
    "\n",
    "\n",
    "\n",
    "\n"
   ]
  },
  {
   "cell_type": "code",
   "execution_count": 6,
   "metadata": {
    "id": "om8tqmU3p5Sh"
   },
   "outputs": [
    {
     "name": "stdout",
     "output_type": "stream",
     "text": [
      "8\n",
      "The correct answer is: 8\n"
     ]
    },
    {
     "name": "stdin",
     "output_type": "stream",
     "text": [
      "Make your guess:  8\n"
     ]
    },
    {
     "name": "stdout",
     "output_type": "stream",
     "text": [
      "Your guess was: 8\n",
      "\n",
      "Winner\n"
     ]
    }
   ],
   "source": [
    "import random\n",
    "low = 1\n",
    "high = 20\n",
    "rand = random.randint(low, high)\n",
    "print(rand)\n",
    "for _ in range(6):\n",
    "  print(f'The correct answer is: {rand}')\n",
    "  guess = int(input(\"Make your guess: \"))\n",
    "  print(f'Your guess was: {guess}\\n')\n",
    "  if guess == rand:\n",
    "    print(\"Winner\")\n",
    "    break\n",
    "  else:\n",
    "    print(\"Sorwy\")\n",
    "    if guess < rand:\n",
    "      print(\"Try again foo, you're too low\")\n",
    "    else:\n",
    "      print(\"How much lower can you go?!\")\n",
    "else:\n",
    "  print(\"Only 6 attempts foo\")"
   ]
  },
  {
   "cell_type": "code",
   "execution_count": 7,
   "metadata": {},
   "outputs": [
    {
     "data": {
      "text/plain": [
       "18"
      ]
     },
     "execution_count": 7,
     "metadata": {},
     "output_type": "execute_result"
    }
   ],
   "source": [
    "9+9"
   ]
  },
  {
   "cell_type": "code",
   "execution_count": null,
   "metadata": {},
   "outputs": [
    {
     "name": "stdout",
     "output_type": "stream",
     "text": [
      "4\n",
      "Welcome to our game\n"
     ]
    },
    {
     "name": "stdin",
     "output_type": "stream",
     "text": [
      "Enter your name:  Ron\n"
     ]
    },
    {
     "name": "stdout",
     "output_type": "stream",
     "text": [
      "The correct answer is: 4\n",
      "\n"
     ]
    },
    {
     "name": "stdin",
     "output_type": "stream",
     "text": [
      "Make your guess:  4\n"
     ]
    },
    {
     "name": "stdout",
     "output_type": "stream",
     "text": [
      "Your guess was: 4\n",
      "\n",
      "Congratulations, Ron! You guessed the correct number in 1 attempts. You win!\n"
     ]
    },
    {
     "name": "stdin",
     "output_type": "stream",
     "text": [
      "Enter your name:  Jon\n"
     ]
    },
    {
     "name": "stdout",
     "output_type": "stream",
     "text": [
      "The correct answer is: 4\n",
      "\n"
     ]
    },
    {
     "name": "stdin",
     "output_type": "stream",
     "text": [
      "Make your guess:  4\n"
     ]
    },
    {
     "name": "stdout",
     "output_type": "stream",
     "text": [
      "Your guess was: 4\n",
      "\n",
      "Congratulations, Jon! You guessed the correct number in 1 attempts. You win!\n"
     ]
    },
    {
     "name": "stdin",
     "output_type": "stream",
     "text": [
      "Enter your name:  Ron\n"
     ]
    },
    {
     "name": "stdout",
     "output_type": "stream",
     "text": [
      "The correct answer is: 4\n",
      "\n"
     ]
    },
    {
     "name": "stdin",
     "output_type": "stream",
     "text": [
      "Make your guess:  3\n"
     ]
    },
    {
     "name": "stdout",
     "output_type": "stream",
     "text": [
      "Your guess was: 3\n",
      "\n",
      "Sorry\n",
      "Try again, you're too low\n",
      "The correct answer is: 4\n",
      "\n"
     ]
    },
    {
     "name": "stdin",
     "output_type": "stream",
     "text": [
      "Make your guess:  5\n"
     ]
    },
    {
     "name": "stdout",
     "output_type": "stream",
     "text": [
      "Your guess was: 5\n",
      "\n",
      "Sorry\n",
      "Try again, you're too high\n",
      "The correct answer is: 4\n",
      "\n"
     ]
    },
    {
     "name": "stdin",
     "output_type": "stream",
     "text": [
      "Make your guess:  4\n"
     ]
    },
    {
     "name": "stdout",
     "output_type": "stream",
     "text": [
      "Your guess was: 4\n",
      "\n",
      "Congratulations, Ron! You guessed the correct number in 3 attempts. You win!\n"
     ]
    },
    {
     "name": "stdin",
     "output_type": "stream",
     "text": [
      "Enter your name:  Ron\n"
     ]
    },
    {
     "name": "stdout",
     "output_type": "stream",
     "text": [
      "The correct answer is: 4\n",
      "\n"
     ]
    },
    {
     "name": "stdin",
     "output_type": "stream",
     "text": [
      "Make your guess:  1\n"
     ]
    },
    {
     "name": "stdout",
     "output_type": "stream",
     "text": [
      "Your guess was: 1\n",
      "\n",
      "Sorry\n",
      "Try again, you're too low\n",
      "The correct answer is: 4\n",
      "\n"
     ]
    },
    {
     "name": "stdin",
     "output_type": "stream",
     "text": [
      "Make your guess:  1\n"
     ]
    },
    {
     "name": "stdout",
     "output_type": "stream",
     "text": [
      "Your guess was: 1\n",
      "\n",
      "Sorry\n",
      "Try again, you're too low\n",
      "The correct answer is: 4\n",
      "\n"
     ]
    },
    {
     "name": "stdin",
     "output_type": "stream",
     "text": [
      "Make your guess:  1\n"
     ]
    },
    {
     "name": "stdout",
     "output_type": "stream",
     "text": [
      "Your guess was: 1\n",
      "\n",
      "Sorry\n",
      "Try again, you're too low\n",
      "The correct answer is: 4\n",
      "\n"
     ]
    },
    {
     "name": "stdin",
     "output_type": "stream",
     "text": [
      "Make your guess:  1\n"
     ]
    },
    {
     "name": "stdout",
     "output_type": "stream",
     "text": [
      "Your guess was: 1\n",
      "\n",
      "Sorry\n",
      "Try again, you're too low\n",
      "The correct answer is: 4\n",
      "\n"
     ]
    },
    {
     "name": "stdin",
     "output_type": "stream",
     "text": [
      "Make your guess:  1\n"
     ]
    },
    {
     "name": "stdout",
     "output_type": "stream",
     "text": [
      "Your guess was: 1\n",
      "\n",
      "Sorry\n",
      "Try again, you're too low\n",
      "The correct answer is: 4\n",
      "\n"
     ]
    },
    {
     "name": "stdin",
     "output_type": "stream",
     "text": [
      "Make your guess:  1\n"
     ]
    },
    {
     "name": "stdout",
     "output_type": "stream",
     "text": [
      "Your guess was: 1\n",
      "\n",
      "Sorry\n",
      "Try again, you're too low\n",
      "Sorry, Ron, you've reached the maximum number of attempts. The correct answer was 4. Better luck next time.\n"
     ]
    },
    {
     "name": "stdin",
     "output_type": "stream",
     "text": [
      "Enter your name:  ron\n"
     ]
    },
    {
     "name": "stdout",
     "output_type": "stream",
     "text": [
      "The correct answer is: 4\n",
      "\n"
     ]
    },
    {
     "name": "stdin",
     "output_type": "stream",
     "text": [
      "Make your guess:  4\n"
     ]
    },
    {
     "name": "stdout",
     "output_type": "stream",
     "text": [
      "Your guess was: 4\n",
      "\n",
      "Congratulations, ron! You guessed the correct number in 1 attempts. You win!\n"
     ]
    }
   ],
   "source": [
    "import random\n",
    "\n",
    "def play_guessing_game(low, high):\n",
    "    rand = random.randint(low, high)\n",
    "    print(rand)\n",
    "    print(\"Welcome to our game\")\n",
    "\n",
    "    scores = {}\n",
    "\n",
    "    for _ in range(7):\n",
    "        player_name = input(\"Enter your name: \")\n",
    "        score = 0\n",
    "\n",
    "        for _ in range(6):\n",
    "            print(f'The correct answer is: {rand}\\n')\n",
    "            guess = int(input('Make your guess: '))\n",
    "            print(f'Your guess was: {guess}\\n')\n",
    "\n",
    "            if guess == rand:\n",
    "                print(f\"Congratulations, {player_name}! You guessed the correct number in {score + 1} attempts. You win!\")\n",
    "                scores[player_name] = score + 1\n",
    "                break\n",
    "            else:\n",
    "                print(\"Sorry\")\n",
    "                if guess < rand:\n",
    "                    print(\"Try again, you're too low\")\n",
    "                else:\n",
    "                    print(\"Try again, you're too high\")\n",
    "\n",
    "            score += 1\n",
    "        else:\n",
    "            print(f\"Sorry, {player_name}, you've reached the maximum number of attempts. The correct answer was {rand}. Better luck next time.\")\n",
    "\n",
    "    print(\"\\n===== Scoreboard =====\")\n",
    "    for player, player_score in scores.items():\n",
    "        print(f\"{player}: {player_score} attempts\")\n",
    "\n",
    "if __name__ == \"__main__\":\n",
    "    play_guessing_game(1, 20)\n"
   ]
  },
  {
   "cell_type": "code",
   "execution_count": null,
   "metadata": {},
   "outputs": [],
   "source": []
  }
 ],
 "metadata": {
  "colab": {
   "authorship_tag": "ABX9TyOyEl3ntg4yBC0QWDwH8461",
   "include_colab_link": true,
   "provenance": []
  },
  "kernelspec": {
   "display_name": "Python 3 (ipykernel)",
   "language": "python",
   "name": "python3"
  },
  "language_info": {
   "codemirror_mode": {
    "name": "ipython",
    "version": 3
   },
   "file_extension": ".py",
   "mimetype": "text/x-python",
   "name": "python",
   "nbconvert_exporter": "python",
   "pygments_lexer": "ipython3",
   "version": "3.10.13"
  }
 },
 "nbformat": 4,
 "nbformat_minor": 4
}
