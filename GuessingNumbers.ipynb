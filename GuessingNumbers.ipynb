{
 "cells": [
  {
   "cell_type": "markdown",
   "metadata": {
    "colab_type": "text",
    "id": "view-in-github"
   },
   "source": [
    "<a href=\"https://colab.research.google.com/github/FRCC-Geospatial-Science/GIS-3011-Assignment-One-Python-Review/blob/main/GuessingNumbers.ipynb\" target=\"_parent\"><img src=\"https://colab.research.google.com/assets/colab-badge.svg\" alt=\"Open In Colab\"/></a>"
   ]
  },
  {
   "cell_type": "markdown",
   "metadata": {
    "id": "ilSmgOMDp4Ma"
   },
   "source": [
    "\n",
    "**Writing a Random Number Guessing Game**\n",
    "As a class, we will need to use the created flow chart to write a program which guesses a number between 1 and 20.\n",
    "\n",
    "\n",
    "\n",
    "1.   Have the user input a number between 1 and 20\n",
    "2.   Give the user 6 chances to guess the number\n",
    "3.   You'll need the following:\n",
    "\n",
    "*   Variables\n",
    "*   Ranges\n",
    "*   Comparison Operators\n",
    "*   Flow Control\n",
    "*   Value Types\n",
    "*   Value Type Conversions\n",
    "*   Print statements\n",
    "\n",
    "\n",
    "\n",
    "\n",
    "\n"
   ]
  },
  {
   "cell_type": "code",
   "execution_count": 4,
   "metadata": {
    "id": "om8tqmU3p5Sh"
   },
   "outputs": [
    {
     "name": "stdin",
     "output_type": "stream",
     "text": [
      "Make your guess:  11\n"
     ]
    },
    {
     "name": "stdout",
     "output_type": "stream",
     "text": [
      "Your guess was: 11\n",
      "Sorwy\n",
      "Try again foo, you're too low\n"
     ]
    },
    {
     "name": "stdin",
     "output_type": "stream",
     "text": [
      "Make your guess:  16\n"
     ]
    },
    {
     "name": "stdout",
     "output_type": "stream",
     "text": [
      "Your guess was: 16\n",
      "Winner\n"
     ]
    }
   ],
   "source": [
    "import random\n",
    "low = 1\n",
    "high = 20\n",
    "rand = random.randint(low, high)\n",
    "for _ in range(6):\n",
    "  guess = int(input(\"Make your guess: \"))\n",
    "  print(f'Your guess was: {guess}')\n",
    "  if guess == rand:\n",
    "    print(\"Winner\")\n",
    "    break\n",
    "  else:\n",
    "    print(\"Sorwy\")\n",
    "    if guess < rand:\n",
    "      print(\"Try again foo, you're too low\")\n",
    "    else:\n",
    "      print(\"How much lower can you go?!\")\n",
    "else:\n",
    "  print(\"Only 6 attempts foo\")"
   ]
  }
 ],
 "metadata": {
  "colab": {
   "authorship_tag": "ABX9TyOyEl3ntg4yBC0QWDwH8461",
   "include_colab_link": true,
   "provenance": []
  },
  "kernelspec": {
   "display_name": "Python 3 (ipykernel)",
   "language": "python",
   "name": "python3"
  },
  "language_info": {
   "codemirror_mode": {
    "name": "ipython",
    "version": 3
   },
   "file_extension": ".py",
   "mimetype": "text/x-python",
   "name": "python",
   "nbconvert_exporter": "python",
   "pygments_lexer": "ipython3",
   "version": "3.10.13"
  }
 },
 "nbformat": 4,
 "nbformat_minor": 4
}
