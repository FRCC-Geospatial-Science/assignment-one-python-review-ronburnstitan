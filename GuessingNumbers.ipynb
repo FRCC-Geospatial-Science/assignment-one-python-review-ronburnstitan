{
  "nbformat": 4,
  "nbformat_minor": 0,
  "metadata": {
    "colab": {
      "provenance": [],
      "authorship_tag": "ABX9TyOyEl3ntg4yBC0QWDwH8461",
      "include_colab_link": true
    },
    "kernelspec": {
      "name": "python3",
      "display_name": "Python 3"
    },
    "language_info": {
      "name": "python"
    }
  },
  "cells": [
    {
      "cell_type": "markdown",
      "metadata": {
        "id": "view-in-github",
        "colab_type": "text"
      },
      "source": [
        "<a href=\"https://colab.research.google.com/github/FRCC-Geospatial-Science/GIS-3011-Assignment-One-Python-Review/blob/main/GuessingNumbers.ipynb\" target=\"_parent\"><img src=\"https://colab.research.google.com/assets/colab-badge.svg\" alt=\"Open In Colab\"/></a>"
      ]
    },
    {
      "cell_type": "markdown",
      "source": [
        "\n",
        "**Writing a Random Number Guessing Game**\n",
        "As a class, we will need to use the created flow chart to write a program which guesses a number between 1 and 20.\n",
        "\n",
        "\n",
        "\n",
        "1.   Have the user input a number between 1 and 20\n",
        "2.   Give the user 6 chances to guess the number\n",
        "3.   You'll need the following:\n",
        "\n",
        "*   Variables\n",
        "*   Ranges\n",
        "*   Comparison Operators\n",
        "*   Flow Control\n",
        "*   Value Types\n",
        "*   Value Type Conversions\n",
        "*   Print statements\n",
        "\n",
        "\n",
        "\n",
        "\n",
        "\n"
      ],
      "metadata": {
        "id": "ilSmgOMDp4Ma"
      }
    },
    {
      "cell_type": "code",
      "source": [],
      "metadata": {
        "id": "om8tqmU3p5Sh"
      },
      "execution_count": null,
      "outputs": []
    }
  ]
}