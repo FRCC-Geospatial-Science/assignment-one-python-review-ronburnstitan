{
 "cells": [
  {
   "cell_type": "markdown",
   "id": "9c4be673-9c70-4051-9b72-466f198c3f91",
   "metadata": {},
   "source": [
    "# Expressions, Values, and Operators\n",
    "\n",
    "## Python as a Calculator\n",
    "In the following cell, enter and run (shift+enter or the Execute button) a simple math problem"
   ]
  },
  {
   "cell_type": "code",
   "execution_count": null,
   "id": "1de58755-a30e-4661-b148-d31b5436765a",
   "metadata": {},
   "outputs": [],
   "source": []
  },
  {
   "cell_type": "markdown",
   "id": "40647dcf-27b7-41d0-bc4c-be41a4e5d83b",
   "metadata": {},
   "source": [
    "Then evaluate the following"
   ]
  },
  {
   "cell_type": "code",
   "execution_count": null,
   "id": "eb2bb97d-34ae-4bde-b5b9-72a67920f022",
   "metadata": {},
   "outputs": [],
   "source": [
    "(5 - 1) * ((7 + 1) / (3 - 1))"
   ]
  },
  {
   "cell_type": "markdown",
   "id": "355ed377-29df-45c3-b1c4-0fd3a2065b3b",
   "metadata": {},
   "source": [
    "## Errors in Python\n",
    "Fix the following error, then execute the cell"
   ]
  },
  {
   "cell_type": "code",
   "execution_count": null,
   "id": "8a8d0399-ae80-4a30-8fd7-d09ea9d47fec",
   "metadata": {},
   "outputs": [],
   "source": [
    "5 +"
   ]
  },
  {
   "cell_type": "markdown",
   "id": "3cd6eda3-23f7-4f46-a608-09cf00f71f85",
   "metadata": {},
   "source": [
    "## Data Types\n",
    "1. Concatenate your name, the name of this course, and your age\n",
    "2. Try concatenating your age without first converting it to a string. Examine the resulting error."
   ]
  },
  {
   "cell_type": "code",
   "execution_count": null,
   "id": "ac61e215-338b-409a-9fcf-c189d5eb1ee3",
   "metadata": {},
   "outputs": [],
   "source": []
  },
  {
   "cell_type": "markdown",
   "id": "5b11ec4f-f037-460b-b298-f39db27a662c",
   "metadata": {},
   "source": [
    "## Variables\n",
    "Create a variable for spam, eggs, and bacon. Assign them a string. Concatenate the variables to make a full sentence about breakfast."
   ]
  },
  {
   "cell_type": "code",
   "execution_count": null,
   "id": "07d49e90-2e6b-4c95-9c07-e5a509cd28c2",
   "metadata": {},
   "outputs": [],
   "source": []
  },
  {
   "cell_type": "markdown",
   "id": "53655d06-4209-4d92-9ba4-c9147656d3e6",
   "metadata": {},
   "source": [
    "## Statements\n",
    "\n",
    "Enter the expression: 2 + 2\n",
    "Then assign the variable spam to the expression 2 + 2\n",
    "Then use the variable “spam” to increase the variable spam by 5"
   ]
  },
  {
   "cell_type": "code",
   "execution_count": null,
   "id": "12a6fa83-11a5-478c-83df-bd2439b9a3af",
   "metadata": {},
   "outputs": [],
   "source": []
  },
  {
   "cell_type": "markdown",
   "id": "285fac5f-937d-40e5-8621-b75c3b577530",
   "metadata": {},
   "source": [
    "## Writing a Simple Program with Inputs\n",
    "Up next, we are going to write a program which asks for a user’s name and then greets them \n",
    "1. Write a multiline comment which describes the program on more that one line\n",
    "2. In a few slides, we will add more code to the program"
   ]
  },
  {
   "cell_type": "code",
   "execution_count": null,
   "id": "33b7656c-26bb-4e49-b2ea-6adbf6e4de85",
   "metadata": {},
   "outputs": [],
   "source": []
  },
  {
   "cell_type": "markdown",
   "id": "be8763ab-f7d9-487c-8dfb-e9df6b3e7b5e",
   "metadata": {},
   "source": [
    "## Boolean Values and Comparison Operators\n",
    "1. Enter and evaluate several Boolean operators, as seen in Slide 13"
   ]
  },
  {
   "cell_type": "code",
   "execution_count": null,
   "id": "4f0cdd0c-4d65-4227-b300-ee5da00ec514",
   "metadata": {},
   "outputs": [],
   "source": []
  },
  {
   "cell_type": "markdown",
   "id": "b5d250ca-bc38-4bfd-8aef-ac9ba1840599",
   "metadata": {},
   "source": [
    "## Combining Booleans and Comparison Operators\n",
    "1. Enter and evaluate the code you see in Slide 17 "
   ]
  },
  {
   "cell_type": "code",
   "execution_count": null,
   "id": "aedcb54e-3e9b-4ed9-bdad-9e255395263c",
   "metadata": {},
   "outputs": [],
   "source": []
  },
  {
   "cell_type": "markdown",
   "id": "976c0663-a433-486d-bf13-a3e4ebd8d04b",
   "metadata": {},
   "source": [
    "# Flow Control\n",
    "## elif Statments\n",
    "1. Enter and evaluate the code from Slide 24"
   ]
  },
  {
   "cell_type": "code",
   "execution_count": null,
   "id": "b7033ea4-1248-41aa-912b-d890f0bb00ba",
   "metadata": {},
   "outputs": [],
   "source": []
  },
  {
   "cell_type": "markdown",
   "id": "26c1a299-8ba7-4957-a37d-6cbbb307de52",
   "metadata": {},
   "source": [
    "## while Loop Statements\n",
    "1. Enter and evaluate the code from Slide 26 in two seperate cells"
   ]
  },
  {
   "cell_type": "code",
   "execution_count": null,
   "id": "a21d9359-d9ef-416f-a123-d8c33eb93dc9",
   "metadata": {},
   "outputs": [],
   "source": []
  },
  {
   "cell_type": "code",
   "execution_count": null,
   "id": "8e91fe31-6503-4a15-9edd-e0d08f00bdcd",
   "metadata": {},
   "outputs": [],
   "source": []
  },
  {
   "cell_type": "markdown",
   "id": "eb6e13c8-c7ba-4dd3-9804-a5c71fee3cb0",
   "metadata": {},
   "source": [
    "## Infinate while Loops\n",
    "1. Run the following cell\n",
    "2. Why doesn't it seem to end? Either terminate the kernel or read the code to figure out how to stop the loop"
   ]
  },
  {
   "cell_type": "code",
   "execution_count": null,
   "id": "49d833be-665b-4188-bd78-002f32689a77",
   "metadata": {},
   "outputs": [],
   "source": [
    "name = ''\n",
    "while name != 'your name'\n",
    "    print(\"Please enter your name\")\n",
    "    name = input()\n",
    "print('Thank you \" + name + \"!\")"
   ]
  },
  {
   "cell_type": "markdown",
   "id": "13be0e78-aca4-419b-ad8b-dadac3bc9260",
   "metadata": {},
   "source": [
    "## Break Statements\n",
    "Compare the following code to the above code. Why does the following not create an infinate loop?"
   ]
  },
  {
   "cell_type": "code",
   "execution_count": null,
   "id": "2be68b88-013f-4f4c-9e26-528980915b1c",
   "metadata": {},
   "outputs": [],
   "source": [
    "while True:\n",
    "    print('Please type your name')\n",
    "    name = input()\n",
    "    if name == 'your name'\n",
    "        break\n",
    "print('Thank you ' + name)"
   ]
  },
  {
   "cell_type": "markdown",
   "id": "01dc419b-85e0-4461-8c8b-d89c57712d53",
   "metadata": {},
   "source": [
    "## Continue Statements"
   ]
  },
  {
   "cell_type": "code",
   "execution_count": null,
   "id": "7eb0f6d1-cadc-4113-a846-b49bf26bc697",
   "metadata": {},
   "outputs": [],
   "source": [
    "while True:\n",
    "     print('Who are you?')\n",
    "     name = input()\n",
    "     if name != 'Joe':\n",
    "        continue\n",
    "     print('Hello Joe. What is the password? (Hint: It’s a fish.)')\n",
    "     password = input()\n",
    "     if password == 'swordfish':\n",
    "          break\n",
    "print('Access Granted for ' + name)"
   ]
  },
  {
   "cell_type": "markdown",
   "id": "3c7d16c1-468d-4f77-be1d-4d5f91baf444",
   "metadata": {},
   "source": [
    "## The Range Function\n",
    "1. Enter the code you see in slide 31 in the following two cells. Edit the values to see how it changes the execution."
   ]
  },
  {
   "cell_type": "code",
   "execution_count": null,
   "id": "c1f1b2e2-f69f-410e-b09e-0e8233a780c7",
   "metadata": {},
   "outputs": [],
   "source": []
  },
  {
   "cell_type": "code",
   "execution_count": null,
   "id": "3969cdf3-f555-47fd-9260-ba7bc047e0dc",
   "metadata": {},
   "outputs": [],
   "source": []
  },
  {
   "cell_type": "markdown",
   "id": "6988e753-1adc-42d3-bfca-e16d84da19e0",
   "metadata": {},
   "source": [
    "# The sys.exit() Function\n",
    "1. Enter and execute the code on slide 32"
   ]
  },
  {
   "cell_type": "code",
   "execution_count": null,
   "id": "53c18437-1846-4ad2-8f88-9af4f385ed20",
   "metadata": {},
   "outputs": [],
   "source": []
  },
  {
   "cell_type": "markdown",
   "id": "6e32d36a-0715-4e3c-be28-5d7707430300",
   "metadata": {},
   "source": [
    "# Global and Local Variables"
   ]
  },
  {
   "cell_type": "code",
   "execution_count": null,
   "id": "92c1c6bf-addf-4a08-b224-b1bc95a8837b",
   "metadata": {},
   "outputs": [],
   "source": [
    "def spam():\n",
    "    eggs = 42\n",
    "spam()\n",
    "print(eggs)"
   ]
  },
  {
   "cell_type": "code",
   "execution_count": null,
   "id": "d689b4ec-14eb-4abb-b7b3-66a010bd6926",
   "metadata": {},
   "outputs": [],
   "source": [
    "def spam():\n",
    "    eggs = 99\n",
    "    bacon()\n",
    "    print(eggs)\n",
    "def bacon():\n",
    "    ham =101\n",
    "    eggs = 0\n",
    "spam()"
   ]
  },
  {
   "cell_type": "code",
   "execution_count": null,
   "id": "1adc6c18-161d-43c2-9d9a-874e460b6358",
   "metadata": {},
   "outputs": [],
   "source": [
    "def spam():\n",
    "   print(eggs)\n",
    "eggs = 42\n",
    "spam()\n",
    "print(eggs)"
   ]
  },
  {
   "cell_type": "code",
   "execution_count": null,
   "id": "ac89233e-b853-405f-b996-af78f729ebb7",
   "metadata": {},
   "outputs": [],
   "source": [
    "def spam():\n",
    "    eggs = 'over easy'\n",
    "    print(eggs)    # prints 'over easy'\n",
    "\n",
    "def bacon():\n",
    "    eggs = 'hard boiled'\n",
    "    print(eggs)    # prints 'head boiled'\n",
    "    spam()\n",
    "    print(eggs)    # prints 'hard boiled'\n",
    "\n",
    "eggs = 'poached'\n",
    "bacon()\n",
    "print(eggs)        # prints 'poached'"
   ]
  },
  {
   "cell_type": "code",
   "execution_count": null,
   "id": "f64210f5-1d6b-4fed-86b9-c115ad32a6be",
   "metadata": {},
   "outputs": [],
   "source": [
    "def spam():\n",
    "    global eggs\n",
    "    eggs = 'over easy'\n",
    "eggs = \"hard boiled\"\n",
    "spam()\n",
    "print(eggs)"
   ]
  },
  {
   "cell_type": "code",
   "execution_count": null,
   "id": "fa1d2d59-56c8-4285-af3a-fa10afc0532d",
   "metadata": {},
   "outputs": [],
   "source": [
    "def spam():\n",
    "   print(eggs) #ERROR\n",
    "   eggs = 'poached local'\n",
    "\n",
    "Eggs = 'hard boiled'\n",
    "spam()"
   ]
  },
  {
   "cell_type": "markdown",
   "id": "4e15dd74-3234-4f66-8498-412b56d57752",
   "metadata": {},
   "source": [
    "# Exception Handling"
   ]
  },
  {
   "cell_type": "code",
   "execution_count": null,
   "id": "bb1f4af2-6dea-4a96-b05e-a21349cd4f34",
   "metadata": {},
   "outputs": [],
   "source": [
    "def spam(divideBy):\n",
    "    return 42 / divideBy"
   ]
  },
  {
   "cell_type": "code",
   "execution_count": null,
   "id": "02433708-c5f5-4e43-b314-d521e189eddf",
   "metadata": {},
   "outputs": [],
   "source": [
    "def spam(divideBy):\n",
    "    try:\n",
    "        return 42 / divideBy\n",
    "        except ZeroDivisionError:\n",
    "print('Error: Invalid argument.')"
   ]
  },
  {
   "cell_type": "code",
   "execution_count": null,
   "id": "a2b99f49-c044-4b55-80a7-e99e3df22691",
   "metadata": {},
   "outputs": [],
   "source": [
    "def spam(divideBy):\n",
    "    return 42 / divideBy\n",
    "try:\n",
    "    print(spam(2))\n",
    "    print(spam(12))\n",
    "    print(spam(0))\n",
    "    print(spam(1))\n",
    "except ZeroDivisionError:\n",
    "    print('Error: Invalid argument.')"
   ]
  },
  {
   "cell_type": "markdown",
   "id": "3b24a970-a7d0-4234-9cca-ea59287d0a31",
   "metadata": {},
   "source": [
    "# The List Data Type"
   ]
  },
  {
   "cell_type": "code",
   "execution_count": null,
   "id": "e1d98ee0-3ecf-42cc-bda9-07a81da69d1c",
   "metadata": {},
   "outputs": [],
   "source": [
    "spam = ['cat', 'bat', 'rat', 'elephant']"
   ]
  },
  {
   "cell_type": "markdown",
   "id": "df4814f5-08fd-4d68-9651-b7134355d1ec",
   "metadata": {},
   "source": [
    "# Working with Lists"
   ]
  },
  {
   "cell_type": "code",
   "execution_count": null,
   "id": "5fa1daa7-a019-4b39-9ef4-fc99945c0c27",
   "metadata": {},
   "outputs": [],
   "source": [
    "catName1 = 'Zophie'\n",
    "catName2 = 'Pooka'\n",
    "catName3 = 'Simon'\n",
    "catName4 = 'Lady Macbeth'\n",
    "catName5 = 'Fat-tail'\n",
    "catName6 = 'Miss Cleo'"
   ]
  },
  {
   "cell_type": "code",
   "execution_count": null,
   "id": "5cfa6346-6c5d-492d-84f0-e49719ca68dd",
   "metadata": {},
   "outputs": [],
   "source": [
    "print('Enter the name of cat 1:')\n",
    "catName1 = input()\n",
    "print('Enter the name of cat 2:')\n",
    "catName2 = input()\n",
    "print('Enter the name of cat 3:')\n",
    "catName3 = input()\n",
    "print('Enter the name of cat 4:')\n",
    "catName4 = input()\n",
    "print('Enter the name of cat 5:')\n",
    "catName5 = input()\n",
    "print('Enter the name of cat 6:')\n",
    "catName6 = input()\n",
    "print('The cat names are:')\n",
    "print(catName1 + ' ' + catName2 + ' ' + catName3 + ' ' + catName4 + ' ' +\n",
    "catName5 + ' ' + catName6)"
   ]
  },
  {
   "cell_type": "code",
   "execution_count": null,
   "id": "ef022322-0063-4043-8a43-67fc618beec0",
   "metadata": {},
   "outputs": [],
   "source": [
    "catNames = []\n",
    "while True:\n",
    "    print('Enter the name of cat ' + str(len(catNames) + 1) + ' (Or enter nothing to stop.):')\n",
    "    name = input()\n",
    "    if name == '':\n",
    "        break\n",
    "    catNames = catNames + [name] # list concatenation\n",
    "print('The cat names are:')\n",
    "for name in catNames:\n",
    "    print(' ' + name)"
   ]
  },
  {
   "cell_type": "markdown",
   "id": "62d6308e-f74c-4ff3-bd78-4a0c0cbd5960",
   "metadata": {},
   "source": [
    "# Using for Loops with Lists"
   ]
  },
  {
   "cell_type": "code",
   "execution_count": null,
   "id": "b236d4a9-bd06-4838-8475-4e7d79c653d8",
   "metadata": {},
   "outputs": [],
   "source": [
    "for i in range(4):\n",
    "    print(i)"
   ]
  },
  {
   "cell_type": "markdown",
   "id": "fe46456d-0c3a-4bb0-ae62-97a1c6d444c8",
   "metadata": {},
   "source": [
    "is the same as"
   ]
  },
  {
   "cell_type": "code",
   "execution_count": null,
   "id": "d86496b6-d0d7-42c5-a375-2612be2aa98d",
   "metadata": {},
   "outputs": [],
   "source": [
    "for i in [0, 1, 2, 3]:\n",
    "    print(i)"
   ]
  },
  {
   "cell_type": "markdown",
   "id": "eecf77da-ad74-425c-9c15-71266570871e",
   "metadata": {},
   "source": [
    "However, the range function only works with numbers. Here is one way to complete a for loop with strings"
   ]
  },
  {
   "cell_type": "code",
   "execution_count": null,
   "id": "973f4fb0-4393-48a9-915c-a49cb33cc167",
   "metadata": {},
   "outputs": [],
   "source": [
    "supplies = ['pens', 'staplers', 'flamethrowers', 'binders']\n",
    "for i in range(len(supplies)):\n",
    "    print('Index ' + str(i) + ' in supplies is: ' + supplies[i])"
   ]
  },
  {
   "cell_type": "markdown",
   "id": "e2c643f5-39ca-43f6-8e74-40171e52c8c3",
   "metadata": {},
   "source": [
    "Instead of the command range(len(someList)) with a for loop to obtain the integer index of the items in the list, you can use the enumerate() function instead. On each iteration of the loop, enumerate() will return two values: the index of the item in the list and the list items itself. \n",
    "\n",
    "The enumerate() function is useful if you need both the item and the item’s index in the loop’s block."
   ]
  },
  {
   "cell_type": "code",
   "execution_count": null,
   "id": "488c226c-8abf-4609-9d04-e08e88c103c2",
   "metadata": {},
   "outputs": [],
   "source": [
    "supplies = ['pens', 'staplers', 'flamethrowers', 'binders']\n",
    "    for index, item in enumerate(supplies):\n",
    "    print('Index ' + str(index) + ' in supplies is: ' + item)"
   ]
  },
  {
   "cell_type": "markdown",
   "id": "be6da339-7fdf-45cc-b99f-2ed4a0c4009a",
   "metadata": {},
   "source": [
    "# The in and not in Operators"
   ]
  },
  {
   "cell_type": "code",
   "execution_count": null,
   "id": "077b5d74-d159-40a6-8acc-40604e2b8eac",
   "metadata": {},
   "outputs": [],
   "source": [
    "myPets = ['Zophie', 'Pooka', 'Fat-tail']\n",
    "print('Enter a pet name:')\n",
    "name = input()\n",
    "if name not in myPets:\n",
    "    print('I do not have a pet named ' + name)\n",
    "else:\n",
    "    print(name + ' is my pet.')"
   ]
  },
  {
   "cell_type": "markdown",
   "id": "e79c07f1-a862-4674-87a4-de9f87abb93a",
   "metadata": {},
   "source": [
    "# Using the random.choice() and random.shuffle() Functions with Lists\n",
    "Run the following cells more than once and see what happens"
   ]
  },
  {
   "cell_type": "code",
   "execution_count": null,
   "id": "c3786e62-10c1-484e-b60c-2dc748037dfb",
   "metadata": {},
   "outputs": [],
   "source": [
    "import random\n",
    "pets = ['Dog', 'Cat', 'Moose’]\n",
    "random.choice(pets)"
   ]
  },
  {
   "cell_type": "code",
   "execution_count": null,
   "id": "526be5d0-326c-4648-831d-ce5777fbcb94",
   "metadata": {},
   "outputs": [],
   "source": [
    "people = ['Alice', 'Bob', 'Carol', 'David’]\n",
    "random.shuffle(people) \n",
    "people\n"
   ]
  },
  {
   "cell_type": "markdown",
   "id": "f4af50a0-b570-4de8-83ac-69016d66b206",
   "metadata": {},
   "source": [
    "# List Methods\n",
    "1. Create a list\n",
    "2. Use the insert, append, index, remove, sort, and reverse methods on that list\n",
    "See the slide for examples"
   ]
  },
  {
   "cell_type": "code",
   "execution_count": null,
   "id": "2b3a1e99-50d0-471d-b05c-a507d2166b69",
   "metadata": {},
   "outputs": [],
   "source": []
  },
  {
   "cell_type": "code",
   "execution_count": null,
   "id": "c29595ec-26e1-430d-9c2c-86d1bb01b711",
   "metadata": {},
   "outputs": [],
   "source": []
  },
  {
   "cell_type": "markdown",
   "id": "44887645-a06b-40b1-b4cc-c4df0b8b0f92",
   "metadata": {},
   "source": [
    "# "
   ]
  }
 ],
 "metadata": {
  "kernelspec": {
   "display_name": "Python 3 (ipykernel)",
   "language": "python",
   "name": "python3"
  },
  "language_info": {
   "codemirror_mode": {
    "name": "ipython",
    "version": 3
   },
   "file_extension": ".py",
   "mimetype": "text/x-python",
   "name": "python",
   "nbconvert_exporter": "python",
   "pygments_lexer": "ipython3",
   "version": "3.10.6"
  }
 },
 "nbformat": 4,
 "nbformat_minor": 5
}
